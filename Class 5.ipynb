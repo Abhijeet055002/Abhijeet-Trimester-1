{
 "cells": [
  {
   "cell_type": "code",
   "execution_count": 13,
   "id": "884c25fb-e18e-4451-a4d0-4d4176c74b02",
   "metadata": {},
   "outputs": [
    {
     "name": "stdout",
     "output_type": "stream",
     "text": [
      "96  is mark of student with grade \n",
      "A\n"
     ]
    }
   ],
   "source": [
    "import random\n",
    "student_random_mark = random.randint(1,100)\n",
    "\n",
    "print(student_random_mark, \" is mark of student with grade \")\n",
    "if student_random_mark >= 80:\n",
    "    print(\"A\")\n",
    "elif student_random_mark >= 60:\n",
    "    print(\"B\")\n",
    "elif student_random_mark >= 40:\n",
    "    print(\"C\")\n",
    "else:\n",
    "    print(\"F\")"
   ]
  },
  {
   "cell_type": "code",
   "execution_count": 64,
   "id": "d215b485-5590-4717-b33d-7126064d2c28",
   "metadata": {},
   "outputs": [
    {
     "name": "stdout",
     "output_type": "stream",
     "text": [
      "[98, 32, 4, 82, 29, 83, 40, 11, 44, 50, 60, 53, 5, 9, 91, 63, 96, 35, 38, 15, 9, 4, 11, 39, 41, 16, 8, 49, 80, 75, 77, 63, 71, 1, 43, 63, 66, 22, 41, 43, 30, 88, 92, 21, 99, 92, 36, 30, 94, 34, 16, 33, 23, 25, 88, 68, 24, 99, 23, 10]\n",
      "dict_1[A][98, 82, 83, 91, 96, 80, 88, 92, 99, 92, 94, 88, 99]\n",
      "dict_1[B][60, 63, 75, 77, 63, 71, 63, 66, 68]\n",
      "dict_1[C][40, 44, 50, 53, 41, 49, 43, 41, 43]\n",
      "dict_1[F][32, 4, 29, 11, 5, 9, 35, 38, 15, 9, 4, 11, 39, 16, 8, 1, 22, 30, 21, 36, 30, 34, 16, 33, 23, 25, 24, 23, 10]\n",
      "A : 13, B : 9, C : 9, F : 29, "
     ]
    }
   ],
   "source": [
    "import random\n",
    "\n",
    "# Generate 60 random marks\n",
    "list_1 = random.choices(range(1,100), k = 60)\n",
    "\n",
    "print(\"List of marks\", list_1)\n",
    "\n",
    "# Create an empty dictionary\n",
    "key_list = [\"A\", \"B\", \"C\", \"F\"]\n",
    "value_list = [[], [], [], []]\n",
    "dict_1 = dict(zip(key_list, value_list))\n",
    "\n",
    "# Assign all marks their grade\n",
    "for i in range(0, 60, 1):\n",
    "    if list_1[i] >= 80:\n",
    "        dict_1['A'].append(list_1[i])\n",
    "    elif list_1[i] >= 60:\n",
    "        dict_1['B'].append(list_1[i])\n",
    "    elif list_1[i] >= 40:\n",
    "        dict_1['C'].append(list_1[i])\n",
    "    else:\n",
    "        dict_1['F'].append(list_1[i])\n",
    "# Print grade\n",
    "for i in key_list:\n",
    "    print(\"dict_1[\", i, \"]\", dict_1[i], sep = \"\")\n",
    "    \n",
    "# Print number of students in ach grade\n",
    "for i in key_list:\n",
    "    print(i,\":\",len(dict_1[i]), end = \", \")"
   ]
  },
  {
   "cell_type": "code",
   "execution_count": null,
   "id": "7432cb8c-3f69-4339-92a3-f0d150dc5a3b",
   "metadata": {},
   "outputs": [],
   "source": [
    "word = input(\"Enter a word\")\n",
    "newword = \"\"\n",
    "for i in range(0, len(word), 1):\n",
    "    if i%2==0:\n",
    "        newword += word[i]\n",
    "for i in range(1,len(word)+1,1):\n",
    "    print(newword[-i], sep = \"\", end = \"\")"
   ]
  },
  {
   "cell_type": "code",
   "execution_count": null,
   "id": "10354e76-27a3-4bec-ab62-70f968b987e0",
   "metadata": {},
   "outputs": [],
   "source": []
  }
 ],
 "metadata": {
  "kernelspec": {
   "display_name": "Python 3 (ipykernel)",
   "language": "python",
   "name": "python3"
  },
  "language_info": {
   "codemirror_mode": {
    "name": "ipython",
    "version": 3
   },
   "file_extension": ".py",
   "mimetype": "text/x-python",
   "name": "python",
   "nbconvert_exporter": "python",
   "pygments_lexer": "ipython3",
   "version": "3.12.4"
  }
 },
 "nbformat": 4,
 "nbformat_minor": 5
}
