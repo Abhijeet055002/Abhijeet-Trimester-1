{
 "cells": [
  {
   "cell_type": "code",
   "execution_count": 83,
   "id": "c4338606-5043-4cf7-98bb-1360965f7308",
   "metadata": {},
   "outputs": [
    {
     "name": "stdout",
     "output_type": "stream",
     "text": [
      "[0, 1, 2, 3, 4, 5, 6, 7, 8, 9]\n"
     ]
    }
   ],
   "source": [
    "# Add two list\n",
    "list_1 = [x for x in range(0, 5)]\n",
    "list_2 = [x for x in range(5, 10)]\n",
    "list_3 = list_1 + list_2\n",
    "print(list_3)"
   ]
  },
  {
   "cell_type": "code",
   "execution_count": 12,
   "id": "14c2578f-7a0d-4825-855e-1379b1aff881",
   "metadata": {},
   "outputs": [
    {
     "name": "stdout",
     "output_type": "stream",
     "text": [
      "[5, 7, 9, 11, 13]\n"
     ]
    }
   ],
   "source": [
    "import numpy as np\n",
    "array_1 = np.array(list_1)\n",
    "array_2 = np.array(list_2)\n",
    "result = array_1 + array_2\n",
    "print(result.tolist())"
   ]
  },
  {
   "cell_type": "code",
   "execution_count": 16,
   "id": "fd905658-440c-4586-8aeb-b4780b598f95",
   "metadata": {},
   "outputs": [
    {
     "name": "stdout",
     "output_type": "stream",
     "text": [
      "{'2', 1, 2, '1'}\n"
     ]
    }
   ],
   "source": [
    "list_4 = [1, \"1\", 2, \"2\"]\n",
    "set_1 = set(list_4)\n",
    "print(set_1)"
   ]
  },
  {
   "cell_type": "code",
   "execution_count": 24,
   "id": "ea9e34d8-cf47-499e-9d1f-15150f4a68d2",
   "metadata": {},
   "outputs": [
    {
     "name": "stdout",
     "output_type": "stream",
     "text": [
      "2\n"
     ]
    }
   ],
   "source": [
    "list_1 = [True, [\"a\",[1,2]]]\n",
    "print(list_1[1][1][1])"
   ]
  },
  {
   "cell_type": "code",
   "execution_count": 44,
   "id": "743aa0f9-39cd-475a-aa0d-78c688ee2171",
   "metadata": {},
   "outputs": [
    {
     "name": "stdout",
     "output_type": "stream",
     "text": [
      "<class 'dict'>\n",
      "<class 'dict'>\n"
     ]
    }
   ],
   "source": [
    "dict_1 = {0: \"0\", 1: \"1\"}\n",
    "print(type(dict_1))\n",
    "dict_2 = {\"0\": 0, \"1\": 1}\n",
    "print(type(dict_2))"
   ]
  },
  {
   "cell_type": "code",
   "execution_count": 77,
   "id": "ec5d4eb9-5815-47ff-8b39-f605694df0ef",
   "metadata": {},
   "outputs": [
    {
     "name": "stdout",
     "output_type": "stream",
     "text": [
      "Bihar\n"
     ]
    }
   ],
   "source": [
    "keys = [\"name\", \"place\", \"course\"]\n",
    "values=[ [\"Abhijeet\", \"Abhishek\", \"Abhimanyu\"],\n",
    "        [[\"Palam\",\"New Delhi\"], [\"Ranchi\",\"Jharkhand\"], [\"Patna\",\"Bihar\"]],\n",
    "        [\"BDA\", \"FM\", \"IB\"]   \n",
    "]\n",
    "my_dict = dict(zip(keys, values))\n",
    "print(my_dict[\"place\"][-1][-1])"
   ]
  },
  {
   "cell_type": "code",
   "execution_count": 81,
   "id": "1d6a802b-f9ae-4d77-bbf8-47525691ed1e",
   "metadata": {},
   "outputs": [
    {
     "name": "stdout",
     "output_type": "stream",
     "text": [
      "1\n"
     ]
    }
   ],
   "source": [
    "json = {\"key\": {\"key\":[0,1] }}\n",
    "print(json[\"key\"][\"key\"][1])"
   ]
  }
 ],
 "metadata": {
  "kernelspec": {
   "display_name": "Python 3 (ipykernel)",
   "language": "python",
   "name": "python3"
  },
  "language_info": {
   "codemirror_mode": {
    "name": "ipython",
    "version": 3
   },
   "file_extension": ".py",
   "mimetype": "text/x-python",
   "name": "python",
   "nbconvert_exporter": "python",
   "pygments_lexer": "ipython3",
   "version": "3.12.4"
  }
 },
 "nbformat": 4,
 "nbformat_minor": 5
}
