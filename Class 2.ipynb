{
  "nbformat": 4,
  "nbformat_minor": 0,
  "metadata": {
    "colab": {
      "provenance": []
    },
    "kernelspec": {
      "name": "python3",
      "display_name": "Python 3"
    },
    "language_info": {
      "name": "python"
    }
  },
  "cells": [
    {
      "cell_type": "code",
      "execution_count": null,
      "metadata": {
        "colab": {
          "base_uri": "https://localhost:8080/"
        },
        "id": "Ejh3gh9wH_UW",
        "outputId": "39ccb405-e768-4a15-cb2e-d0e8fc53ad85"
      },
      "outputs": [
        {
          "output_type": "stream",
          "name": "stdout",
          "text": [
            "1\n"
          ]
        }
      ],
      "source": [
        "n1 = 1\n",
        "print(n1)"
      ]
    },
    {
      "cell_type": "code",
      "source": [
        "print('Abhijeet\\'s')"
      ],
      "metadata": {
        "colab": {
          "base_uri": "https://localhost:8080/"
        },
        "id": "_8CycBzUJUVH",
        "outputId": "8ee0ec4b-ca04-4501-8260-844cc177963e"
      },
      "execution_count": null,
      "outputs": [
        {
          "output_type": "stream",
          "name": "stdout",
          "text": [
            "Abhijeet's\n"
          ]
        }
      ]
    },
    {
      "cell_type": "code",
      "source": [
        "round(43.14, 1)"
      ],
      "metadata": {
        "colab": {
          "base_uri": "https://localhost:8080/"
        },
        "id": "raW-s2WNI0uW",
        "outputId": "ac78f5ed-d038-4802-bcf8-7135834a74e1"
      },
      "execution_count": null,
      "outputs": [
        {
          "output_type": "execute_result",
          "data": {
            "text/plain": [
              "43.1"
            ]
          },
          "metadata": {},
          "execution_count": 5
        }
      ]
    },
    {
      "cell_type": "code",
      "source": [
        "print('')"
      ],
      "metadata": {
        "colab": {
          "base_uri": "https://localhost:8080/"
        },
        "id": "GQppPADUJW1Z",
        "outputId": "460b0063-de3d-410e-93a8-7e0c033b23d7"
      },
      "execution_count": null,
      "outputs": [
        {
          "output_type": "stream",
          "name": "stdout",
          "text": [
            "\n"
          ]
        }
      ]
    },
    {
      "cell_type": "code",
      "source": [
        "python = \"I love python\"\n",
        "\n",
        "print(python)\n",
        "print(python[-6:-1])"
      ],
      "metadata": {
        "colab": {
          "base_uri": "https://localhost:8080/"
        },
        "id": "sCqjO33VLGi9",
        "outputId": "e54be31a-e1e9-4041-ab22-ff3cc8e1e8d4"
      },
      "execution_count": null,
      "outputs": [
        {
          "output_type": "stream",
          "name": "stdout",
          "text": [
            "I love python\n",
            "pytho\n"
          ]
        }
      ]
    },
    {
      "cell_type": "code",
      "source": [
        "a = \"abc\"\n",
        "A = \"abc\"\n",
        "a == A"
      ],
      "metadata": {
        "colab": {
          "base_uri": "https://localhost:8080/"
        },
        "id": "7UN-ZkhVMfqR",
        "outputId": "71ee0ecf-89c6-4b09-d39a-b65fbcfa3411"
      },
      "execution_count": null,
      "outputs": [
        {
          "output_type": "execute_result",
          "data": {
            "text/plain": [
              "True"
            ]
          },
          "metadata": {},
          "execution_count": 20
        }
      ]
    },
    {
      "cell_type": "code",
      "source": [
        "\"pnemonia\"[-2:-1]"
      ],
      "metadata": {
        "colab": {
          "base_uri": "https://localhost:8080/",
          "height": 36
        },
        "id": "uUxbDrA3OFXx",
        "outputId": "f79dad58-da61-4796-eb7a-9cc652a462ef"
      },
      "execution_count": null,
      "outputs": [
        {
          "output_type": "execute_result",
          "data": {
            "text/plain": [
              "'i'"
            ],
            "application/vnd.google.colaboratory.intrinsic+json": {
              "type": "string"
            }
          },
          "metadata": {},
          "execution_count": 23
        }
      ]
    },
    {
      "cell_type": "code",
      "source": [
        "sentence = \"Tiger is hungrey\"\n",
        "len(sentence.split(\" \"))"
      ],
      "metadata": {
        "colab": {
          "base_uri": "https://localhost:8080/"
        },
        "id": "OXx-4KM7OoZb",
        "outputId": "b6d5c45a-3a81-4b8a-fd90-e6cb805216f6"
      },
      "execution_count": null,
      "outputs": [
        {
          "output_type": "execute_result",
          "data": {
            "text/plain": [
              "3"
            ]
          },
          "metadata": {},
          "execution_count": 24
        }
      ]
    },
    {
      "cell_type": "code",
      "source": [
        "no = None\n",
        "print(no)"
      ],
      "metadata": {
        "colab": {
          "base_uri": "https://localhost:8080/"
        },
        "id": "KXKGzcppPpSl",
        "outputId": "3fcd9ac6-cf99-4c0c-cf2c-85b61fd503d0"
      },
      "execution_count": null,
      "outputs": [
        {
          "output_type": "stream",
          "name": "stdout",
          "text": [
            "None\n"
          ]
        }
      ]
    },
    {
      "cell_type": "code",
      "source": [
        "student_mark = 59\n",
        "passing_mark = 60\n",
        "\n",
        "if student_mark >= passing_mark:\n",
        "  pass\n",
        "else:\n",
        "  print(\"take Action\")"
      ],
      "metadata": {
        "colab": {
          "base_uri": "https://localhost:8080/"
        },
        "id": "DX4jaQ8aQhOV",
        "outputId": "0e3f9779-95a2-4352-d176-7d2cb63d2039"
      },
      "execution_count": null,
      "outputs": [
        {
          "output_type": "stream",
          "name": "stdout",
          "text": [
            "take Action\n"
          ]
        }
      ]
    },
    {
      "cell_type": "code",
      "source": [
        "a = 2\n",
        "a\n",
        "b = 5"
      ],
      "metadata": {
        "id": "XWJ7hj9cSKDs"
      },
      "execution_count": null,
      "outputs": []
    },
    {
      "cell_type": "code",
      "source": [],
      "metadata": {
        "id": "JA6OZ1IRTP0O"
      },
      "execution_count": null,
      "outputs": []
    }
  ]
}