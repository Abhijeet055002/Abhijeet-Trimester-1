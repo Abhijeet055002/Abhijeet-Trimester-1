{
 "cells": [
  {
   "cell_type": "code",
   "execution_count": null,
   "metadata": {
    "colab": {
     "base_uri": "https://localhost:8080/"
    },
    "id": "Ejh3gh9wH_UW",
    "outputId": "39ccb405-e768-4a15-cb2e-d0e8fc53ad85"
   },
   "outputs": [
    {
     "name": "stdout",
     "output_type": "stream",
     "text": [
      "1\n"
     ]
    }
   ],
   "source": [
    "# Printing an integer number\n",
    "n1 = 1\n",
    "print(n1)"
   ]
  },
  {
   "cell_type": "code",
   "execution_count": null,
   "metadata": {
    "colab": {
     "base_uri": "https://localhost:8080/"
    },
    "id": "_8CycBzUJUVH",
    "outputId": "8ee0ec4b-ca04-4501-8260-844cc177963e"
   },
   "outputs": [
    {
     "name": "stdout",
     "output_type": "stream",
     "text": [
      "Abhijeet's\n"
     ]
    }
   ],
   "source": [
    "# Printing a single quote\n",
    "print('Abhijeet\\'s')"
   ]
  },
  {
   "cell_type": "code",
   "execution_count": null,
   "metadata": {
    "colab": {
     "base_uri": "https://localhost:8080/"
    },
    "id": "raW-s2WNI0uW",
    "outputId": "ac78f5ed-d038-4802-bcf8-7135834a74e1"
   },
   "outputs": [
    {
     "data": {
      "text/plain": [
       "43.1"
      ]
     },
     "execution_count": 5,
     "metadata": {},
     "output_type": "execute_result"
    }
   ],
   "source": [
    "# Rounding a number\n",
    "round(43.14, 1)"
   ]
  },
  {
   "cell_type": "code",
   "execution_count": null,
   "metadata": {
    "colab": {
     "base_uri": "https://localhost:8080/"
    },
    "id": "GQppPADUJW1Z",
    "outputId": "460b0063-de3d-410e-93a8-7e0c033b23d7"
   },
   "outputs": [
    {
     "name": "stdout",
     "output_type": "stream",
     "text": [
      "\n"
     ]
    }
   ],
   "source": [
    "# Printing empty quote\n",
    "print('')"
   ]
  },
  {
   "cell_type": "code",
   "execution_count": null,
   "metadata": {
    "colab": {
     "base_uri": "https://localhost:8080/"
    },
    "id": "sCqjO33VLGi9",
    "outputId": "e54be31a-e1e9-4041-ab22-ff3cc8e1e8d4"
   },
   "outputs": [
    {
     "name": "stdout",
     "output_type": "stream",
     "text": [
      "I love python\n",
      "pytho\n"
     ]
    }
   ],
   "source": [
    "# Printing using index slicing\n",
    "python = \"I love python\"\n",
    "\n",
    "print(python)\n",
    "print(python[-6:-1])"
   ]
  },
  {
   "cell_type": "code",
   "execution_count": null,
   "metadata": {
    "colab": {
     "base_uri": "https://localhost:8080/"
    },
    "id": "7UN-ZkhVMfqR",
    "outputId": "71ee0ecf-89c6-4b09-d39a-b65fbcfa3411"
   },
   "outputs": [
    {
     "data": {
      "text/plain": [
       "True"
      ]
     },
     "execution_count": 20,
     "metadata": {},
     "output_type": "execute_result"
    }
   ],
   "source": [
    "# Comparing two variable with differnt name but same data\n",
    "a = \"abc\"\n",
    "A = \"abc\"\n",
    "a == A"
   ]
  },
  {
   "cell_type": "code",
   "execution_count": null,
   "metadata": {
    "colab": {
     "base_uri": "https://localhost:8080/",
     "height": 36
    },
    "id": "uUxbDrA3OFXx",
    "outputId": "f79dad58-da61-4796-eb7a-9cc652a462ef"
   },
   "outputs": [
    {
     "data": {
      "application/vnd.google.colaboratory.intrinsic+json": {
       "type": "string"
      },
      "text/plain": [
       "'i'"
      ]
     },
     "execution_count": 23,
     "metadata": {},
     "output_type": "execute_result"
    }
   ],
   "source": [
    "# Printing using index slicing\n",
    "\"pnemonia\"[-2:-1]"
   ]
  },
  {
   "cell_type": "code",
   "execution_count": null,
   "metadata": {
    "colab": {
     "base_uri": "https://localhost:8080/"
    },
    "id": "OXx-4KM7OoZb",
    "outputId": "b6d5c45a-3a81-4b8a-fd90-e6cb805216f6"
   },
   "outputs": [
    {
     "data": {
      "text/plain": [
       "3"
      ]
     },
     "execution_count": 24,
     "metadata": {},
     "output_type": "execute_result"
    }
   ],
   "source": [
    "# Counting number of words in string\n",
    "sentence = \"Tiger is hungry\"\n",
    "len(sentence.split(\" \"))"
   ]
  },
  {
   "cell_type": "code",
   "execution_count": null,
   "metadata": {
    "colab": {
     "base_uri": "https://localhost:8080/"
    },
    "id": "KXKGzcppPpSl",
    "outputId": "3fcd9ac6-cf99-4c0c-cf2c-85b61fd503d0"
   },
   "outputs": [
    {
     "name": "stdout",
     "output_type": "stream",
     "text": [
      "None\n"
     ]
    }
   ],
   "source": [
    "# Printing None data\n",
    "no = None\n",
    "print(no)"
   ]
  },
  {
   "cell_type": "code",
   "execution_count": null,
   "metadata": {
    "colab": {
     "base_uri": "https://localhost:8080/"
    },
    "id": "DX4jaQ8aQhOV",
    "outputId": "0e3f9779-95a2-4352-d176-7d2cb63d2039"
   },
   "outputs": [
    {
     "name": "stdout",
     "output_type": "stream",
     "text": [
      "take Action\n"
     ]
    }
   ],
   "source": [
    "# Testing conditional statement\n",
    "student_mark = 59\n",
    "passing_mark = 60\n",
    "\n",
    "if student_mark >= passing_mark:\n",
    "  pass\n",
    "else:\n",
    "  print(\"take Action\")"
   ]
  }
 ],
 "metadata": {
  "colab": {
   "provenance": []
  },
  "kernelspec": {
   "display_name": "Python 3 (ipykernel)",
   "language": "python",
   "name": "python3"
  },
  "language_info": {
   "codemirror_mode": {
    "name": "ipython",
    "version": 3
   },
   "file_extension": ".py",
   "mimetype": "text/x-python",
   "name": "python",
   "nbconvert_exporter": "python",
   "pygments_lexer": "ipython3",
   "version": "3.12.4"
  }
 },
 "nbformat": 4,
 "nbformat_minor": 4
}
