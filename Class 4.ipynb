{
 "cells": [
  {
   "cell_type": "code",
   "execution_count": 11,
   "id": "0af80ac8-a6a4-438b-bf10-927cdcb87440",
   "metadata": {},
   "outputs": [
    {
     "name": "stdin",
     "output_type": "stream",
     "text": [
      "Input a 3-digit random number between 0 & 1:  3.14\n"
     ]
    },
    {
     "name": "stdout",
     "output_type": "stream",
     "text": [
      "A two digit random number 3.14\n"
     ]
    }
   ],
   "source": [
    "rn3 = float(input('Input a 3-digit random number between 0 & 1: '))\n",
    "rn2 = round(rn3, 2) # random\n",
    "print(\"A two digit random number\", rn2)\n"
   ]
  },
  {
   "cell_type": "code",
   "execution_count": 27,
   "id": "2d176168-8166-4f39-b7a4-227f26d9eabc",
   "metadata": {},
   "outputs": [
    {
     "name": "stdin",
     "output_type": "stream",
     "text": [
      "Enter a random number 1\n",
      "Enter a random number 2\n",
      "Enter a random number 3\n",
      "Enter a random number 4\n"
     ]
    },
    {
     "name": "stdout",
     "output_type": "stream",
     "text": [
      "Enter Number from -3 to 3\n"
     ]
    },
    {
     "name": "stdin",
     "output_type": "stream",
     "text": [
      "Enter a random number 1\n",
      "Enter a random number 2\n",
      "Enter a random number -3\n",
      "Enter a random number -3\n"
     ]
    },
    {
     "name": "stdout",
     "output_type": "stream",
     "text": [
      "sum is positive\n",
      "3\n"
     ]
    }
   ],
   "source": [
    "# Input 7 random number from -3 to 3 and print out positive, negative or zero depending on their sum\n",
    "\n",
    "list1 = []\n",
    "i = 0\n",
    "while i < 7:\n",
    "    num = int(input(\"Enter a random number\"))\n",
    "    if num > -4 and num < 4:\n",
    "        list1.append(num)\n",
    "        i += 1\n",
    "    else:\n",
    "        print(\"Enter Number from -3 to 3\")\n",
    "\n",
    "sum = 0\n",
    "for i in range (0,7,1):\n",
    "    sum += list1[i]\n",
    "\n",
    "if sum == 0:\n",
    "    print(\"Sum = 0\")\n",
    "elif sum < 0:\n",
    "    print(\"sum is negative\")\n",
    "elif sum > 0:\n",
    "    print(\"sum is positive\")\n",
    "\n",
    "print(sum)\n"
   ]
  },
  {
   "cell_type": "code",
   "execution_count": 47,
   "id": "b938ee6f-df54-4a8a-8e86-488ba0b0f44f",
   "metadata": {},
   "outputs": [
    {
     "name": "stdout",
     "output_type": "stream",
     "text": [
      "0.69\n"
     ]
    }
   ],
   "source": [
    "import random\n",
    "print(round(random.random(),2))"
   ]
  },
  {
   "cell_type": "code",
   "execution_count": 43,
   "id": "731dd48a-05b3-404a-a4a8-d81ecd12525b",
   "metadata": {},
   "outputs": [
    {
     "name": "stdout",
     "output_type": "stream",
     "text": [
      "[29, 77, 73, 8, 2]\n"
     ]
    }
   ],
   "source": [
    "list2 = random.sample(range(1, 101),5)\n",
    "print(list2)"
   ]
  },
  {
   "cell_type": "code",
   "execution_count": 45,
   "id": "b2babe1a-3b46-43a0-9e65-59c5b05740a0",
   "metadata": {},
   "outputs": [
    {
     "name": "stdout",
     "output_type": "stream",
     "text": [
      "89\n"
     ]
    }
   ],
   "source": [
    "print(random.randint(1,101))"
   ]
  },
  {
   "cell_type": "code",
   "execution_count": 55,
   "id": "8a1e0a03-0cd1-4642-971f-27a834467383",
   "metadata": {},
   "outputs": [
    {
     "name": "stdout",
     "output_type": "stream",
     "text": [
      "[0.14, 0.76, 0.43, 0.27, 0.84]\n"
     ]
    }
   ],
   "source": [
    "list2 = random.sample(range(1, 100),5)\n",
    "list2 = [x/100 for x in list2]\n",
    "print(list2)"
   ]
  },
  {
   "cell_type": "code",
   "execution_count": 69,
   "id": "de23b2c8-bdcb-4190-a721-913320771e4e",
   "metadata": {},
   "outputs": [
    {
     "name": "stdout",
     "output_type": "stream",
     "text": [
      "3,-1,-1,1,-3,0,3,\n",
      "sum is positive\n",
      "2\n"
     ]
    }
   ],
   "source": [
    "# Input 7 random number from -3 to 3 and print out positive, negative or zero depending on their sum\n",
    "import random\n",
    "\n",
    "list1 = []\n",
    "i = 0\n",
    "while i < 7:\n",
    "    num = random.randint(-3, 3)\n",
    "    print(num, end = \",\")\n",
    "    if num > -4 and num < 4:\n",
    "        list1.append(num)\n",
    "        i += 1\n",
    "    else:\n",
    "        print(\"Enter Number from -3 to 3\")\n",
    "\n",
    "sum = 0\n",
    "for i in range (0,7,1):\n",
    "    sum += list1[i]\n",
    "\n",
    "print()\n",
    "if sum == 0:\n",
    "    print(\"Sum = 0\")\n",
    "elif sum < 0:\n",
    "    print(\"sum is negative\")\n",
    "elif sum > 0:\n",
    "    print(\"sum is positive\")\n",
    "\n",
    "print(sum)"
   ]
  },
  {
   "cell_type": "code",
   "execution_count": 81,
   "id": "fcabf68d-ac8f-4ea1-823f-b6fb3d52fdc8",
   "metadata": {},
   "outputs": [
    {
     "name": "stdout",
     "output_type": "stream",
     "text": [
      "Summation from 0 to 190  is: 18145\n",
      "Summation from 0 to 190  is: 18145\n"
     ]
    }
   ],
   "source": [
    "num = random.randint(1,200)\n",
    "\n",
    "sum = 0\n",
    "for i in range(0, num+1, 1):\n",
    "    sum += i\n",
    "print(\"Summation from 0 to\", num, \" is:\", sum)\n",
    "print(\"Summation from 0 to\", num, \" is:\", num*(num+1)//2)"
   ]
  }
 ],
 "metadata": {
  "kernelspec": {
   "display_name": "Python 3 (ipykernel)",
   "language": "python",
   "name": "python3"
  },
  "language_info": {
   "codemirror_mode": {
    "name": "ipython",
    "version": 3
   },
   "file_extension": ".py",
   "mimetype": "text/x-python",
   "name": "python",
   "nbconvert_exporter": "python",
   "pygments_lexer": "ipython3",
   "version": "3.12.4"
  }
 },
 "nbformat": 4,
 "nbformat_minor": 5
}
