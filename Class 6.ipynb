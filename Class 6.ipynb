{
 "cells": [
  {
   "cell_type": "code",
   "execution_count": 2,
   "id": "a1fcbd4d-97ac-4e05-896c-426470e0a0cc",
   "metadata": {},
   "outputs": [
    {
     "name": "stdout",
     "output_type": "stream",
     "text": [
      "231.0\n"
     ]
    }
   ],
   "source": [
    "# Create a function to perform division multiplication addition subtraction\n",
    "import random\n",
    "value = []\n",
    "\n",
    "for i in range(0,5,1):\n",
    "    value.append(random.randint(0,100))\n",
    "\n",
    "def fun(value):\n",
    "    answer = value[0] / value[1] \n",
    "    answer *= value[2]\n",
    "    answer += value[3]\n",
    "    answer -= value[4]\n",
    "    return answer\n",
    "\n",
    "print(fun(value))\n"
   ]
  }
 ],
 "metadata": {
  "kernelspec": {
   "display_name": "Python 3 (ipykernel)",
   "language": "python",
   "name": "python3"
  },
  "language_info": {
   "codemirror_mode": {
    "name": "ipython",
    "version": 3
   },
   "file_extension": ".py",
   "mimetype": "text/x-python",
   "name": "python",
   "nbconvert_exporter": "python",
   "pygments_lexer": "ipython3",
   "version": "3.12.4"
  }
 },
 "nbformat": 4,
 "nbformat_minor": 5
}
